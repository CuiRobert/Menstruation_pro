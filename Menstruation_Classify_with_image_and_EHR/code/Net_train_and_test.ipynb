{
 "cells": [
  {
   "cell_type": "code",
   "execution_count": 2,
   "metadata": {},
   "outputs": [],
   "source": [
    "import torch\n",
    "import torch.nn.functional as Fun\n",
    "import pandas as pd\n",
    "import numpy as np\n",
    "import os\n",
    "from sklearn.model_selection import KFold"
   ]
  },
  {
   "cell_type": "code",
   "execution_count": 4,
   "metadata": {},
   "outputs": [],
   "source": [
    "def pre_data(path1,img_prd_path):\n",
    "    df = pd.read_excel(path1)\n",
    "    df.drop_duplicates(subset=['住院号'], keep='first', inplace=True)\n",
    "    df2 = pd.read_excel(img_prd_path)\n",
    "    df = pd.merge(df,df2)\n",
    "#     df.to_excel('../data/输入网络测试数据.xlsx',index=False)\n",
    "    df_x = df[['t1','t2','p1','p2','时间差','img_pred']]\n",
    "    df_y = df[['label']]\n",
    "    X = np.array(df_x)\n",
    "    Y = np.array(df_y)\n",
    "    X_tensor = torch.tensor(np.array(X),dtype=torch.float32)\n",
    "    Y_tensor = torch.tensor(np.array(Y)).squeeze(dim=1)\n",
    "    return X_tensor, Y_tensor"
   ]
  },
  {
   "cell_type": "code",
   "execution_count": 5,
   "metadata": {},
   "outputs": [],
   "source": [
    "def get_acc(outputs, labels):\n",
    "    \"\"\"计算acc\"\"\"\n",
    "    _,predict = torch.max(outputs.data,1)\n",
    "    total_num = labels.shape[0]*1.0\n",
    "    correct_num = (labels == predict).sum().item()\n",
    "    acc = correct_num / total_num\n",
    "    label_0,label_1 = 0,0\n",
    "    cre_0,cre_1 = 0,0\n",
    "    for i,j in zip(predict,labels):\n",
    "        if j == 0:\n",
    "            label_0 += 1\n",
    "            if i == j:\n",
    "                cre_0 += 1\n",
    "        if j == 1:\n",
    "            label_1 += 1\n",
    "            if i == j:\n",
    "                cre_1 += 1\n",
    "    pd.DataFrame({'data_pred':list(predict.numpy().tolist()),\n",
    "                  'labels':list(labels.numpy().tolist())}).to_excel('../data/时间推算结果.xlsx',index=False)\n",
    "#     df_save = pd.read_excel('../data/输入网络测试数据.xlsx')\n",
    "#     df_save['data_pred'] = list(predict.numpy().tolist())\n",
    "#     df_save.to_excel('../data/数据推算预测结果.xlsx',index=False)\n",
    "    print(acc)\n",
    "    print('总的准确率:%.4f\\t (%d + %d)\\t/%d'%((cre_0 + cre_1) / len(predict), cre_0, cre_1, len(predict)))\n",
    "    print('标签为0的准确率：%.4f\\t(%d/%d)'%((cre_0 / label_0),cre_0,label_0))\n",
    "    print('标签为1的准确率：%.4f\\t(%d/%d)'%((cre_1 / label_1),cre_1,label_1))\n",
    "    return acc\n",
    "\n",
    "#     return acc"
   ]
  },
  {
   "cell_type": "code",
   "execution_count": 6,
   "metadata": {},
   "outputs": [],
   "source": [
    "def get_acc_test(outputs, labels):\n",
    "    \"\"\"计算acc\"\"\"\n",
    "    _,predict = torch.max(outputs.data,1)\n",
    "    total_num = labels.shape[0]*1.0\n",
    "    correct_num = (labels == predict).sum().item()\n",
    "    acc = correct_num / total_num\n",
    "    label_0,label_1 = 0,0\n",
    "    cre_0,cre_1 = 0,0\n",
    "    for i,j in zip(predict,labels):\n",
    "        if j == 0:\n",
    "            label_0 += 1\n",
    "            if i == j:\n",
    "                cre_0 += 1\n",
    "        if j == 1:\n",
    "            label_1 += 1\n",
    "            if i == j:\n",
    "                cre_1 += 1\n",
    "    df1 = pd.DataFrame({'data_pred':list(predict.numpy().tolist()),\n",
    "                          'labels':list(labels.numpy().tolist())})\n",
    "#     df1.to_excel('../data/时间推算结果.xlsx',index=False)\n",
    "#     df_save = pd.read_excel('../data/输入网络测试数据.xlsx')\n",
    "#     df_save['data_pred'] = list(df1['data_pred'])\n",
    "#     df_save.to_excel('../data/数据推算预测结果.xlsx',index=False)\n",
    "    print(acc)\n",
    "    print('总的准确率:%.4f\\t (%d + %d)\\t/%d'%((cre_0 + cre_1) / len(predict), cre_0, cre_1, len(predict)))\n",
    "    print('标签为0的准确率：%.4f\\t(%d/%d)'%((cre_0 / label_0),cre_0,label_0))\n",
    "    print('标签为1的准确率：%.4f\\t(%d/%d)'%((cre_1 / label_1),cre_1,label_1))\n",
    "    return acc\n"
   ]
  },
  {
   "cell_type": "code",
   "execution_count": 7,
   "metadata": {},
   "outputs": [],
   "source": [
    "# 定义BP神经网络\n",
    "class Net(torch.nn.Module):\n",
    "    def __init__(self, n_feature, n_hidden, n_output):\n",
    "        super(Net, self).__init__()\n",
    "        self.hidden = torch.nn.Linear(n_feature, n_hidden)\n",
    "        self.out = torch.nn.Linear(n_hidden, n_output)\n",
    "        \n",
    "    def forward(self,x):\n",
    "        x = Fun.relu(self.hidden(x))\n",
    "        x = self.out(x)\n",
    "        return x"
   ]
  },
  {
   "cell_type": "code",
   "execution_count": 10,
   "metadata": {},
   "outputs": [],
   "source": [
    "def main():\n",
    "    trainpath_data = '../data/图像输出结果/训练集——月经周期推算（唯一编号）一一对应.xlsx'\n",
    "    trainpath_img ='../data/图像输出结果/训练图片网络输出结果2.xlsx'\n",
    "    testpath_data = '../data/图像输出结果/测试集——月经周期推算（唯一编号）一一对应.xlsx'\n",
    "    testpath_img ='../data/图像输出结果/测试集图片网络输出结果2.xlsx'\n",
    "    \n",
    "    X_trian,Y_trian = pre_data(trainpath_data,trainpath_img)\n",
    "    X_test,Y_test = pre_data(testpath_data,testpath_img)\n",
    "    \n",
    "    \n",
    "    acc_total = 0\n",
    "    epoch = 3\n",
    "    \n",
    "    kf = KFold(n_splits=epoch,shuffle=True,random_state=33)\n",
    "    for train_index,test_index in kf.split(X_trian):\n",
    "        x1,y1 = X_trian[train_index],Y_trian[train_index]\n",
    "        x2,y2 = X_trian[test_index],Y_trian[test_index]\n",
    "#         x1,x2,y1,y2 = train_test_split(X_trian,Y_trian,test_size=0.33)\n",
    "        net = Net(n_feature=6,n_hidden=20,n_output=2)\n",
    "        optimizer = torch.optim.SGD(net.parameters(), lr = 0.05)\n",
    "        loss_func = torch.nn.CrossEntropyLoss()\n",
    "        \n",
    "        for i in range(1000):\n",
    "            out = net(x1)\n",
    "            loss = loss_func(out, y1)\n",
    "            # 输出与label对比\n",
    "            optimizer.zero_grad()\n",
    "            # 初始化\n",
    "            loss.backward()\n",
    "            optimizer.step()\n",
    "\n",
    "        out = net(x2)\n",
    "        acc_1 = get_acc(out,y2)\n",
    "        acc_total += acc_1\n",
    "        print('_'*10)\n",
    "        \n",
    "    print('交叉验证%.4f'%(acc_total/epoch))\n",
    "    print('_'*20)\n",
    "    out = net(X_test)\n",
    "    get_acc_test(out,Y_test)"
   ]
  },
  {
   "cell_type": "code",
   "execution_count": 15,
   "metadata": {},
   "outputs": [
    {
     "name": "stdout",
     "output_type": "stream",
     "text": [
      "0.7027027027027027\n",
      "总的准确率:0.7027\t (51 + 53)\t/148\n",
      "标签为0的准确率：0.6986\t(51/73)\n",
      "标签为1的准确率：0.7067\t(53/75)\n",
      "__________\n",
      "0.7346938775510204\n",
      "总的准确率:0.7347\t (61 + 47)\t/147\n",
      "标签为0的准确率：0.8356\t(61/73)\n",
      "标签为1的准确率：0.6351\t(47/74)\n",
      "__________\n",
      "0.782312925170068\n",
      "总的准确率:0.7823\t (69 + 46)\t/147\n",
      "标签为0的准确率：0.8961\t(69/77)\n",
      "标签为1的准确率：0.6571\t(46/70)\n",
      "__________\n",
      "交叉验证0.7399\n",
      "____________________\n",
      "0.7919463087248322\n",
      "总的准确率:0.7919\t (72 + 46)\t/149\n",
      "标签为0的准确率：0.9000\t(72/80)\n",
      "标签为1的准确率：0.6667\t(46/69)\n"
     ]
    }
   ],
   "source": [
    "if __name__==\"__main__\":\n",
    "    main()"
   ]
  },
  {
   "cell_type": "code",
   "execution_count": null,
   "metadata": {},
   "outputs": [],
   "source": []
  },
  {
   "cell_type": "code",
   "execution_count": null,
   "metadata": {},
   "outputs": [],
   "source": []
  },
  {
   "cell_type": "code",
   "execution_count": null,
   "metadata": {},
   "outputs": [],
   "source": []
  }
 ],
 "metadata": {
  "kernelspec": {
   "display_name": "Python 3",
   "language": "python",
   "name": "python3"
  },
  "language_info": {
   "codemirror_mode": {
    "name": "ipython",
    "version": 3
   },
   "file_extension": ".py",
   "mimetype": "text/x-python",
   "name": "python",
   "nbconvert_exporter": "python",
   "pygments_lexer": "ipython3",
   "version": "3.7.4"
  }
 },
 "nbformat": 4,
 "nbformat_minor": 4
}
