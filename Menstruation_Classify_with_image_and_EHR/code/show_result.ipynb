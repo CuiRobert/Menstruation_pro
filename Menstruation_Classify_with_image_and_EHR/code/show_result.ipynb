{
 "cells": [
  {
   "cell_type": "code",
   "execution_count": 2,
   "metadata": {},
   "outputs": [],
   "source": [
    "import pandas as pd\n",
    "import numpy as np\n",
    "import os"
   ]
  },
  {
   "cell_type": "code",
   "execution_count": 3,
   "metadata": {},
   "outputs": [],
   "source": [
    "def result_combat(path1,path2):\n",
    "    df1 = pd.read_excel(path1)\n",
    "    df2 = pd.read_excel(path2)\n",
    "    df = pd.merge(df1,df2)\n",
    "#     df = df.reset_index().rename(columns={'data_pred':'data_pred','pred_label':'img_pred'})\n",
    "    df.to_excel('../data/合并结果2.xlsx',index=False)"
   ]
  },
  {
   "cell_type": "code",
   "execution_count": 4,
   "metadata": {},
   "outputs": [],
   "source": [
    "def combat_data_img(path1):\n",
    "    df = pd.read_excel(path1)\n",
    "    predict,labels = [],[]\n",
    "    for i,row in df.iterrows():\n",
    "        labels.append(row['label'])\n",
    "        if row['label'] == 0:\n",
    "            predict.append(row['data_pred'])\n",
    "        else:\n",
    "            predict.append(row['img_pred'])\n",
    "    \n",
    "    label_0,label_1 = 0,0\n",
    "    cre_0,cre_1 = 0,0\n",
    "    for i,j in zip(predict,labels):\n",
    "        if j == 0:\n",
    "            label_0 += 1\n",
    "            if i == j:\n",
    "                cre_0 += 1\n",
    "        if j == 1:\n",
    "            label_1 += 1\n",
    "            if i == j:\n",
    "                cre_1 += 1\n",
    "    print('总的准确率:%.4f\\t (%d + %d)\\t/%d'%((cre_0 + cre_1) / len(predict), cre_0, cre_1, len(predict)))\n",
    "    print('标签为0的准确率：%.4f\\t(%d/%d)'%((cre_0 / label_0),cre_0,label_0))\n",
    "    print('标签为1的准确率：%.4f\\t(%d/%d)'%((cre_1 / label_1),cre_1,label_1))"
   ]
  },
  {
   "cell_type": "code",
   "execution_count": 5,
   "metadata": {},
   "outputs": [],
   "source": [
    "def combat_data_img2(path1):\n",
    "    df = pd.read_excel(path1)\n",
    "    predict,labels = [],[]\n",
    "    for i,row in df.iterrows():\n",
    "        labels.append(row['label'])\n",
    "        if row['img_pred'] == row['data_pred']:\n",
    "            predict.append(row['data_pred'])\n",
    "        elif row['img_pred'] == 1 and row['data_pred'] == 0:\n",
    "            predict.append(row['data_pred'])\n",
    "        else:\n",
    "            predict.append(row['img_pred'])\n",
    "    \n",
    "    label_0,label_1 = 0,0\n",
    "    cre_0,cre_1 = 0,0\n",
    "    for i,j in zip(predict,labels):\n",
    "        if j == 0: \n",
    "            label_0 += 1\n",
    "            if i == j:\n",
    "                cre_0 += 1\n",
    "        if j == 1:\n",
    "            label_1 += 1\n",
    "            if i == j:\n",
    "                cre_1 += 1\n",
    "    print('总的准确率:%.4f\\t (%d + %d)\\t/%d'%((cre_0 + cre_1) / len(predict), cre_0, cre_1, len(predict)))\n",
    "    print('标签为0的准确率：%.4f\\t(%d/%d)'%((cre_0 / label_0),cre_0,label_0))\n",
    "    print('标签为1的准确率：%.4f\\t(%d/%d)'%((cre_1 / label_1),cre_1,label_1))"
   ]
  },
  {
   "cell_type": "code",
   "execution_count": 6,
   "metadata": {},
   "outputs": [],
   "source": [
    "def main():\n",
    "    path1 = '../data/数据推算预测结果.xlsx'\n",
    "    path2 = '../data/图片网络输出结果2.xlsx'\n",
    "    result_combat(path1,path2)"
   ]
  },
  {
   "cell_type": "code",
   "execution_count": 7,
   "metadata": {},
   "outputs": [],
   "source": [
    "if __name__=='__main__':\n",
    "    main()"
   ]
  },
  {
   "cell_type": "code",
   "execution_count": 8,
   "metadata": {},
   "outputs": [
    {
     "name": "stdout",
     "output_type": "stream",
     "text": [
      "总的准确率:0.8255\t (77 + 46)\t/149\n",
      "标签为0的准确率：0.9625\t(77/80)\n",
      "标签为1的准确率：0.6667\t(46/69)\n"
     ]
    }
   ],
   "source": [
    "combat_data_img2('../data/合并结果2.xlsx')"
   ]
  },
  {
   "cell_type": "code",
   "execution_count": null,
   "metadata": {},
   "outputs": [],
   "source": []
  }
 ],
 "metadata": {
  "kernelspec": {
   "display_name": "Python 3",
   "language": "python",
   "name": "python3"
  },
  "language_info": {
   "codemirror_mode": {
    "name": "ipython",
    "version": 3
   },
   "file_extension": ".py",
   "mimetype": "text/x-python",
   "name": "python",
   "nbconvert_exporter": "python",
   "pygments_lexer": "ipython3",
   "version": "3.7.4"
  }
 },
 "nbformat": 4,
 "nbformat_minor": 4
}
